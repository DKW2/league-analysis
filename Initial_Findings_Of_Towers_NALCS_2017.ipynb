{
 "cells": [
  {
   "cell_type": "markdown",
   "metadata": {},
   "source": [
    "This report records the findings of the first barron kills for the 3 top teams in the NALCS: C9, TSM, and IMT. The data is only from games within Summer 2017. \n",
    "\n",
    "## TSM\n",
    "Below is the figure for the time of every first baron kill for TSM \n",
    "\n",
    "![Total](Analysis_Plots/TSM_FirstTower.png)\n",
    "\n",
    "Now below is the same figure, except divided into two figures that record the win/loss of the game and the first team to get first Baron.\n",
    "\n",
    "<table><tr><td><img src='Analysis_Plots/TSM_FirstTower2.png'></td><td><img src='Analysis_Plots/TSM_FirstTower3.png'></td></tr></table>\n",
    "\n",
    "It seems like TSM does not really focus on getting first tower, having the other team take first tower before them. However, they still have a good win rate for taking tower \n",
    "\n",
    "## Cloud 9\n",
    "Below is the figure for the time of every first baron kill for Cloud 9\n",
    "\n",
    "![Total](Analysis_Plots/C9_FirstTower.png)\n",
    "\n",
    "Now below is the same figure, except divided into two figures that record the win/loss of the game and the first team to get first baron.\n",
    "\n",
    "<table><tr><td><img src='Analysis_Plots/C9_FirstTower2.png'></td><td><img src='Analysis_Plots/C9_FirstTower3.png'></td></tr></table>\n",
    "\n",
    "## Immortals\n",
    "Below is the figure for the time of every dirst baron kill for Immortals\n",
    "\n",
    "![Total](Analysis_Plots/IMT_FirstTower.png)\n",
    "\n",
    "Now below is the same figure, except divided into two figures that record the win/loss of the game and the first team to get first baron.\n",
    "\n",
    "<table><tr><td><img src='Analysis_Plots/IMT_FirstTower2.png'></td><td><img src='Analysis_Plots/IMT_FirstTower3.png'></td></tr></table>\n",
    "\n",
    "## Final Results"
   ]
  },
  {
   "cell_type": "code",
   "execution_count": null,
   "metadata": {},
   "outputs": [],
   "source": []
  }
 ],
 "metadata": {
  "kernelspec": {
   "display_name": "Python 3",
   "language": "python",
   "name": "python3"
  },
  "language_info": {
   "codemirror_mode": {
    "name": "ipython",
    "version": 3
   },
   "file_extension": ".py",
   "mimetype": "text/x-python",
   "name": "python",
   "nbconvert_exporter": "python",
   "pygments_lexer": "ipython3",
   "version": "3.6.3"
  }
 },
 "nbformat": 4,
 "nbformat_minor": 2
}
