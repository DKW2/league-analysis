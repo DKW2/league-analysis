{
 "cells": [
  {
   "cell_type": "markdown",
   "metadata": {},
   "source": [
    "# Initial Findings about First Dragon kills for the Top 3 Teams in the NALCS during 2017\n",
    "This report records the findings of the first dragon kills for the 3 top teams in the NALCS: C9, TSM, and IMT. The data is only from games within Summer 2017.\n",
    "## TSM\n",
    "Below is the figure for the time of every first dragon kill for TSM \n",
    "\n",
    "![Total](Analysis_Plots/TSM_FirstDragon.png)\n",
    "\n",
    "Now below is the same figure, except divided into two figures that record the win/loss of the game and the first team to get first dragon.\n",
    "\n",
    "<table><tr><td><img src='Analysis_Plots/TSM_FirstDragon2.png'></td><td><img src='Analysis_Plots/TSM_FirstDragon3.png'></td></tr></table>\n",
    "\n",
    "As you can see, TSM killed the first dragon many times close to the ten minute mark of the game. However, even with this high number of first dragon kills, the team still suffers some losses during these games. Another thing to note is that though TSM have had some game with very late first dragons, they still win these games, hinting that there might be another factor determining their win during the late game. Otherwise, it is apparant that TSM strives to obtain first dragon during the early game and have done so without contest. Although this is their strategy, it seems like they still have a percentage of losing even when taking the first dragon.\n",
    "\n",
    "## Cloud 9\n",
    "Below is the figure for the time of every dirst dragon kill for Cloud 9\n",
    "\n",
    "![Total](Analysis_Plots/C9_FirstDragon.png)\n",
    "\n",
    "Now below is the same figure, except divided into two figures that record the win/loss of the game and the first team to get first dragon.\n",
    "\n",
    "<table><tr><td><img src='Analysis_Plots/C9_FirstDragon2.png'></td><td><img src='Analysis_Plots/C9_FirstDragon3.png'></td></tr></table>\n",
    "\n",
    "Similar to TSM, C9 also focused on killing the first dragon during early game. However, they seem to have a certain time of 10-12 minutes where they get their first dragon compared to the spread out time for TSM. In addition, with late first dragon kills, C9 loses more games compared to TSM. Other than that, C9 is very alike to TSM where both teams focus on getting the first dragon kill in the 10 - 18 minute mark but still lose in similar rates during this interval.\n",
    "\n",
    "## Immortals\n",
    "Below is the figure for the time of every dirst dragon kill for Immortals\n",
    "\n",
    "![Total](Analysis_Plots/IMT_FirstDragon.png)\n",
    "\n",
    "Now below is the same figure, except divided into two figures that record the win/loss of the game and the first team to get first dragon.\n",
    "\n",
    "<table><tr><td><img src='Analysis_Plots/IMT_FirstDragon2.png'></td><td><img src='Analysis_Plots/IMT_FirstDragon3.png'></td></tr></table>\n",
    "\n",
    "As with the other two teams, Immortals focuses on getting the first dragon kill during the early game (10-20 minute interval). However, compared to the other teams, Immortals focus on getting first dragon during the 10 minute mark or during the 14-22 minute interval. This could be a strategy that Immortals is using, which is to focus on another objective before getting first dragon. \n",
    "\n",
    "A very strange aspect for Immortals is that they lost almost 50% of their games that had them take first dragon during the 10 minute mar while winning more games for taking dragon during the later half of the game. As stated above, this might be because Immortals is using a strategy that aims at taking dragon later than usual. Regardless, Immortals still shows a desire to get the first dragon kill during the 10 minute mark but also sometimes put less focus on it.\n",
    "\n",
    "## Final Results\n",
    "- Based on the findings above, it appears that each of the top teams aim for the earliest dragon kill at 10 minutes and have almost a 100% of succeeding.\n",
    "- Although later first dragon kills doesn't neccesarily mean that the team got the first dragon, the results vary between teams with TSM and Immortals still winning those games with C9 losing those games. As a result, TSM and Immortals might have a late game strategy that's more effective than C9's.\n",
    "- C9 is very focused on attaining the first dragon kill during the 10 minute mark\n",
    "- Immortals is less concerned about getting first dragon during the 10 minute mark compared to other teams and get first dragon later on in the game. This might represent a strategy that they used to prioritize other objectives first before getting dragon. In addition, attaining first dragon kill actually had a lower win percentage than getting it later on."
   ]
  },
  {
   "cell_type": "code",
   "execution_count": null,
   "metadata": {},
   "outputs": [],
   "source": []
  }
 ],
 "metadata": {
  "kernelspec": {
   "display_name": "Python 3",
   "language": "python",
   "name": "python3"
  },
  "language_info": {
   "codemirror_mode": {
    "name": "ipython",
    "version": 3
   },
   "file_extension": ".py",
   "mimetype": "text/x-python",
   "name": "python",
   "nbconvert_exporter": "python",
   "pygments_lexer": "ipython3",
   "version": "3.6.3"
  }
 },
 "nbformat": 4,
 "nbformat_minor": 2
}
