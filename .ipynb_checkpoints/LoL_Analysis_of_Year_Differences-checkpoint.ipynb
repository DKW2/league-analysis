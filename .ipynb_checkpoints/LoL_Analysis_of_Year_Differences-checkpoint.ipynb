{
 "cells": [
  {
   "cell_type": "markdown",
   "metadata": {},
   "source": [
    "# LoL Analysis of Year Differences\n",
    "This notebook is to portray the differences in certain variables in LoL championships over the years such as Champion picks or the number of games from each League.\n",
    "\n",
    "## # of League Games vs. Year\n",
    "This graph portrays the progression of the number of games from each league.\n",
    "![Leagues](Analysis_Plots/Leagues_vs_Years.png)\n",
    "\n",
    "## # of Appearances of Middle Lane Champion vs. Year\n",
    "This graph portrays the progression of the appearances of each champion in mid lane over the years. Disclaimer: champions who have an appearance of less than 200 games have been removed from the graph. Otherwise, the graph wouldn't be readable. From the graph, it's clear to see that middle lane champions had equal use during the early years. However, in 2017, champions such as Orianna, Syndra, and Corki spiked up, taking control of the meta. Based on the usage of each champion, I assume that these three champions will continue to be the top three used middle lane champions in 2018.\n",
    "![middleLane](Analysis_Plots/middleLane_vs_Years.png)\n",
    "\n",
    "## # of Appearances of Top Lane Champion vs. Year\n",
    "Same as above, this graph portrays the progression of the appearances of each champion in top lane over the years. As we can see, Maokai is used a lot throughout the years and may continue to be used in 2018. In addition, Shen seems to be gaining a lot of use through the years, signaling a meta of Shens in top lane.\n",
    "![topLane](Analysis_Plots/topLane_vs_Years.png)\n",
    "\n",
    "## # of Appearances of ADC Champion vs. Year\n",
    "As for the appearance of ADC Champions over the years, each champion seems to have it's signature year. For example, Lucian was really popular only during 2016 while Corki was at its peak during 2015. Other champions such as Tristana and Jhin seem to only be gaining usage in competitions, so they may not decline as extremely as the champions stated prior.\n",
    "![ADC](Analysis_Plots/ADC_vs_Years.png)\n",
    "\n",
    "## # of Appearances of Support Champion vs. Year\n",
    "As for the appearances of Support Champions over the years, each champion has a moderate usage and seems to oscillate throughout the years. One of the champions that stands out is Braum, who had a huge spike in 2016 and will probably continue to be played in 2018. Other support champions such as Thresh and Nami have gained increase usage over the years and may even eclipse the usage of Thresh in 2018. Other champions have a so-so usage in championships.\n",
    "![Support](Analysis_Plots/Support_vs_Years.png)\n",
    "\n",
    "## # of Appearances of Jungler Champion vs. Year\n",
    "Compared to other graphs, the pool of competitive Jungler Champions smaller, similar to the size of ADC champions. From the graph, it's clear to see that champions such as RekSai, Elise, and Gragas are the top three jungler champions throughout the years. However, upstarts such as LeeSin and Khazix have recieve a huge spike in usage and may eclipse the former top three jungler champions.\n",
    "![Jungler](Analysis_Plots/Jungler_vs_Years.png)"
   ]
  },
  {
   "cell_type": "code",
   "execution_count": null,
   "metadata": {},
   "outputs": [],
   "source": []
  }
 ],
 "metadata": {
  "kernelspec": {
   "display_name": "Python 3",
   "language": "python",
   "name": "python3"
  },
  "language_info": {
   "codemirror_mode": {
    "name": "ipython",
    "version": 3
   },
   "file_extension": ".py",
   "mimetype": "text/x-python",
   "name": "python",
   "nbconvert_exporter": "python",
   "pygments_lexer": "ipython3",
   "version": "3.6.3"
  }
 },
 "nbformat": 4,
 "nbformat_minor": 2
}
