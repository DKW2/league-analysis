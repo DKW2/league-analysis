{
 "cells": [
  {
   "cell_type": "markdown",
   "metadata": {},
   "source": [
    "# Early LoL Championships Analysis\n",
    "After looking through the data, we managed to create a few plots to study the trend of the LoL championships through the years. Though there isn't much too look at yet, the data is very promising for further analysis.\n",
    "\n",
    "This data was brought to you by **Kaggle**, the author **Chuck Ephron**, and **the many contributors** to this data set. Without their willingness to find all this data, we wouldn't be able to discover many trends about the LoL Championships.\n",
    "\n",
    "As of right now, the dataset contains data for **7,620 League of Legends Championship games starting from 2014 to this current year (2018)**. More data will definitely be added as the season goes on, so the analysis below may be a smidge inaccurate. However, hopefully this basic analysis can bring to light a few obvious trends that are appearing in these championships.\n",
    "\n",
    "## Leagues\n",
    "First are the Leagues. This graph portrays the frequncy of championships hosted in each league. According to the plot, LCK seems to have hosted the most championships.\n",
    "![Leagues](Analysis_Plots/Leagues.PNG)\n",
    "\n",
    "## Seasons\n",
    "As for seasons, it appears that the LoL championships are held either during the summer or spring. It is also evident that championships are hosted more during the summer than spring.\n",
    "![Seasons](Analysis_Plots/Seasons.png)\n",
    "\n",
    "## Types of Championships\n",
    "For types of championships, there are 5 types. However, most of them are seasonal championships while the least of them are regional\n",
    "![Types](Analysis_Plots/Types.png)\n",
    "\n",
    "## Years\n",
    "According to the data, it seems as if the number of championships held increases as the years go by, probably because of the increasing popularity of the game. **Since 2018 just started, the percentage of games from this year are still small.** Thus, stay tuned for future analysis when more championships are hosted!\n",
    "![Years](Analysis_Plots/Years.png)\n",
    "\n",
    "## Game Length of Championship Games\n",
    "The game length of each LoL championship game is averaged to about 35 minutes. The graph is also skewed to the right, which would imply a higher chance of a longer game than a shorter one.\n",
    "![gameLength](Analysis_Plots/gameLength.png)\n",
    "\n",
    "## Win Rate of Blue/Red Teams\n",
    "According to the data, it appears that the blue team wins 5% more than the red team in LoL championships. Though the proportions of the wins should be equal(as games should be as equal as possible), it seems that the blue team may have an advantage based by their color?. Or maybe better teams are chosen to be the blue team? (Further analysis is needed) The graph below shows the win rate of the blue teams during the championships. 1 = win, 0 = loss.\n",
    "![bResults](Analysis_Plots/bResults.png)"
   ]
  },
  {
   "cell_type": "code",
   "execution_count": null,
   "metadata": {},
   "outputs": [],
   "source": []
  }
 ],
 "metadata": {
  "kernelspec": {
   "display_name": "Python 3",
   "language": "python",
   "name": "python3"
  },
  "language_info": {
   "codemirror_mode": {
    "name": "ipython",
    "version": 3
   },
   "file_extension": ".py",
   "mimetype": "text/x-python",
   "name": "python",
   "nbconvert_exporter": "python",
   "pygments_lexer": "ipython3",
   "version": "3.6.3"
  }
 },
 "nbformat": 4,
 "nbformat_minor": 2
}
