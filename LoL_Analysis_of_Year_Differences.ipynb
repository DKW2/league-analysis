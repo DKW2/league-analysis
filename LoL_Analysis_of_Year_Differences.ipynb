{
 "cells": [
  {
   "cell_type": "markdown",
   "metadata": {},
   "source": [
    "# LoL Analysis of Year Differences\n",
    "This notebook is to portray the differences in certain variables in LoL championships over the years such as Champion picks or the number of games from each League.\n",
    "\n",
    "## # of League Games vs. Year\n",
    "This graph portrays the progression of the number of games from each league.\n",
    "![Leagues](Analysis_Plots/Leagues_vs_Years.png)\n",
    "\n",
    "## # of Appearances of Middle Lane Champion vs. Year\n",
    "This graph portrays the progression of the appearances of each champion in mid lane over the years. Disclaimer: champions who have an appearance of less than 200 games have been removed from the graph. Otherwise, the graph wouldn't be readable.\n",
    "![middleLane](Analysis_Plots/middleLane_vs_Years.png)"
   ]
  },
  {
   "cell_type": "code",
   "execution_count": null,
   "metadata": {},
   "outputs": [],
   "source": []
  }
 ],
 "metadata": {
  "kernelspec": {
   "display_name": "Python 3",
   "language": "python",
   "name": "python3"
  },
  "language_info": {
   "codemirror_mode": {
    "name": "ipython",
    "version": 3
   },
   "file_extension": ".py",
   "mimetype": "text/x-python",
   "name": "python",
   "nbconvert_exporter": "python",
   "pygments_lexer": "ipython3",
   "version": "3.6.3"
  }
 },
 "nbformat": 4,
 "nbformat_minor": 2
}
