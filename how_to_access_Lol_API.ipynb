{
 "cells": [
  {
   "cell_type": "markdown",
   "metadata": {},
   "source": [
    "# How To Call The LoL API\n",
    "## How to get the API key\n",
    "So, in order to access the LoL API, you need to have a *LoL account*. Once you have one, go to the website https://developer.riotgames.com/ and log in. Once you're in, you will need to request a new API key from the website (Note: These keys expire the next day, so you'll need to regenerate a new key if you want to access the API again). \n",
    "## How do I access the API\n",
    "Once you obtained your API key, open up the text editor and create a new file. First, import requests like so:"
   ]
  },
  {
   "cell_type": "code",
   "execution_count": 1,
   "metadata": {},
   "outputs": [],
   "source": [
    "import requests"
   ]
  },
  {
   "cell_type": "markdown",
   "metadata": {},
   "source": [
    "Now that you have imported requests, make a string variable called URL (or anything you like) and have it assigned to the API URL. For example, if you're from North America and want to search for a summoner, the website would be:"
   ]
  },
  {
   "cell_type": "code",
   "execution_count": null,
   "metadata": {},
   "outputs": [],
   "source": [
    "URL = \"https://na1.api.riotgames.com/lol/summoner/v3/summoners/by-name/\" + <summonerName> + \"?api_key=\" + <APIKey>"
   ]
  },
  {
   "cell_type": "markdown",
   "metadata": {},
   "source": [
    "Note that the URL up to \"/lol\" will be the same for the URL. Look up the API documentation in order to find all of the requests you wish to receive. \n",
    "## How to request and recieve from the API\n",
    "So, now that you have your specific URL, create a variable called response that calls on requests:"
   ]
  },
  {
   "cell_type": "code",
   "execution_count": null,
   "metadata": {},
   "outputs": [],
   "source": [
    "response = requests.get(URL)"
   ]
  },
  {
   "cell_type": "markdown",
   "metadata": {},
   "source": [
    "And with that, response should contain the information you wanted from the API! Congrats!"
   ]
  }
 ],
 "metadata": {
  "kernelspec": {
   "display_name": "Python 3",
   "language": "python",
   "name": "python3"
  },
  "language_info": {
   "codemirror_mode": {
    "name": "ipython",
    "version": 3
   },
   "file_extension": ".py",
   "mimetype": "text/x-python",
   "name": "python",
   "nbconvert_exporter": "python",
   "pygments_lexer": "ipython3",
   "version": "3.6.3"
  }
 },
 "nbformat": 4,
 "nbformat_minor": 2
}
